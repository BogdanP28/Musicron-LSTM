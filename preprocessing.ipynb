{
 "cells": [
  {
   "cell_type": "markdown",
   "metadata": {},
   "source": [
    "<h1>Imports</h1>"
   ]
  },
  {
   "cell_type": "code",
   "execution_count": 1,
   "metadata": {},
   "outputs": [],
   "source": [
    "\n",
    "from mido import MidiFile, MidiTrack, Message\n",
    "from mido.midifiles import MetaMessage\n",
    "from os import listdir\n",
    "import os\n",
    "import numpy as np\n",
    "import pandas as pd"
   ]
  },
  {
   "cell_type": "markdown",
   "metadata": {},
   "source": [
    "<h1>CONSTANTS</h1>\n",
    "<p> Read Config </p>"
   ]
  },
  {
   "cell_type": "code",
   "execution_count": 2,
   "metadata": {},
   "outputs": [
    {
     "name": "stdout",
     "output_type": "stream",
     "text": [
      "<class 'int'>\n"
     ]
    }
   ],
   "source": [
    "from configparser import ConfigParser\n",
    "config = ConfigParser()\n",
    "\n",
    "config.read('config.ini')\n",
    "\n",
    "NR_TRAINING         = int(config.get('PreprocessingParameters', 'NR_TRAINING'))\n",
    "COMPRESSION_FACTOR  = int(config.get('PreprocessingParameters', 'COMPRESSION_FACTOR'))\n",
    "CH_KEY              = str(config.get('PreprocessingParameters', 'CH_KEY'))\n",
    "NUMBER_OCTAVES      = int(config.get('PreprocessingParameters', 'NUMBER_OCTAVES'))\n",
    "INSTRUMENT          = str(config.get('PreprocessingParameters', 'INSTRUMENT'))\n",
    "INSTRUMENT_HARMONY  = str(config.get('PreprocessingParameters', 'INSTRUMENT_HARMONY'))\n",
    "NUMERATOR           = int(config.get('PreprocessingParameters', 'NUMERATOR'))\n",
    "DENOMINATOR         = int(config.get('PreprocessingParameters', 'DENOMINATOR'))\n",
    "\n",
    "print(type(NR_TRAINING))"
   ]
  },
  {
   "cell_type": "code",
   "execution_count": 3,
   "metadata": {},
   "outputs": [],
   "source": [
    "'''NR_TRAINING = 2\n",
    "COMPRESSION_FACTOR = 1\n",
    "CH_KEY = 'C'\n",
    "NUMBER_OCTAVES = 1\n",
    "INSTRUMENT = 'Piano right'\n",
    "INSTRUMENT_HARMONY = \"Piano left\"\n",
    "NUMERATOR = 4\n",
    "DENOMINATOR = 4\n",
    "'''\n",
    "\n",
    "midi_file = 'D:\\\\Programming\\\\Musicron-LSTM\\\\Songs'\n",
    "mel_train_files = midi_file"
   ]
  },
  {
   "cell_type": "markdown",
   "metadata": {},
   "source": [
    "<h1>Get longest song duration </h1>"
   ]
  },
  {
   "cell_type": "code",
   "execution_count": 4,
   "metadata": {},
   "outputs": [
    {
     "name": "stdout",
     "output_type": "stream",
     "text": [
      "Getting Ticks\n",
      "D:\\Programming\\Musicron-LSTM\\Songs\\chpn-p18.mid\n",
      "chpn-p18.mid\n"
     ]
    }
   ],
   "source": [
    "def getTicks(files_dir,nr_training, comp_factor, instr):\n",
    "    print('Getting Ticks')\n",
    "    ticks = []\n",
    "    counter = 0\n",
    "    #for file_dir in files_dir:\n",
    "    for file_name in listdir(files_dir):\n",
    "        file_path = os.path.join(files_dir,file_name)\n",
    "        print(file_path)\n",
    "        if counter<nr_training:\n",
    "        \n",
    "            print(file_name)\n",
    "            counter = counter+1\n",
    "            mid = MidiFile(file_path)                  \n",
    "            for track in mid.tracks:\n",
    "                if(track.name==instr):\n",
    "                    num_ticks = 0          \n",
    "                    for message in track:\n",
    "                        if not isinstance(message, MetaMessage):\n",
    "                           if(message.type=='note_on'):\n",
    "                                num_ticks += int(message.time/comp_factor)\n",
    "                        ticks.append(num_ticks)\n",
    "    #print(int(sum(ticks)/len(ticks)))\n",
    "    #return int(sum(ticks)/len(ticks))\n",
    "    return max(ticks)\n",
    "mel_ticks = getTicks(midi_file, 1, COMPRESSION_FACTOR, instr=INSTRUMENT)"
   ]
  },
  {
   "cell_type": "markdown",
   "metadata": {},
   "source": [
    "<h1>Create Piano Roll</h1>"
   ]
  },
  {
   "cell_type": "markdown",
   "metadata": {},
   "source": [
    "<h>Functions to get and change Key<h>"
   ]
  },
  {
   "cell_type": "code",
   "execution_count": 5,
   "metadata": {},
   "outputs": [],
   "source": [
    "def changeKey(key, ch_key):\n",
    "    print('changeKey')\n",
    "    dict = {'C':48, 'C#':49,'Db':49, 'D':50, 'D#':51,'Eb':51, 'E':52, 'F': 53, 'F#':54,'Gb':54, 'G':55, 'G#':56,'Ab':56, 'A':57, 'A#':58,'Bb':58,'B':59}\n",
    "    for dict_key, value in dict.items():\n",
    "        dict[dict_key] = value - 24\n",
    "    if key!= ch_key:\n",
    "        transposition = abs(dict[key]-dict[ch_key])\n",
    "        #print(transposition)\n",
    "    else:\n",
    "        transposition = 0\n",
    "    \n",
    "    return transposition, dict[ch_key]\n",
    "\n",
    "def getKey(mid):\n",
    "    for track in mid.tracks:\n",
    "        for message in track:\n",
    "            if message.type == 'key_signature':\n",
    "                return message.key"
   ]
  },
  {
   "cell_type": "markdown",
   "metadata": {},
   "source": [
    "<h2>Get note, time, and On/Off(1/0)</h2>\n",
    "<p>message.time -> In MIDI file tracks, it is used as delta time (in ticks), and it must be a non-negative integer.<p>"
   ]
  },
  {
   "cell_type": "code",
   "execution_count": 6,
   "metadata": {},
   "outputs": [],
   "source": [
    "def getNoteCurrentOnOf(mid, comp_factor, transpose, type):\n",
    "    print('getNoteCurrentOnOf')\n",
    "    getNoteCurrentOnOf = []\n",
    "    velocity =[]\n",
    "    for track in mid.tracks:\n",
    "        if(track.name==type):\n",
    "            current_time = 0\n",
    "            for message in track:\n",
    "                    if not isinstance(message, MetaMessage):\n",
    "                        current_time += int(message.time/comp_factor)\n",
    "                        bol = False\n",
    "                        if (message.type == 'note_on'):\n",
    "                            if(message.velocity!=0):\n",
    "                                note_onoff = 1\n",
    "                                bol = True\n",
    "                            else:\n",
    "                                note_onoff = 0\n",
    "                                bol = True\n",
    "                        if (message.type == 'note_off'):\n",
    "                            note_onoff = 0\n",
    "                            bol = True\n",
    "                        if (message.type == 'velocity'):\n",
    "                            print(\"here\")\n",
    "                            \n",
    "                        if(bol==True):\n",
    "                            getNoteCurrentOnOf.append([message.note+(12-transpose), current_time, note_onoff])\n",
    "                            velocity.append(message.velocity)    \n",
    "    return getNoteCurrentOnOf"
   ]
  },
  {
   "cell_type": "markdown",
   "metadata": {},
   "source": []
  },
  {
   "cell_type": "code",
   "execution_count": 7,
   "metadata": {},
   "outputs": [],
   "source": [
    "def getNoteStartLength(getNoteCurrentOnOf):\n",
    "    print(getNoteStartLength)\n",
    "    note_on_length_array = []\n",
    "    first_time = False\n",
    "    aux = 0\n",
    "    b = [x[1] for x in getNoteCurrentOnOf]\n",
    "    aux = b[0]\n",
    "    if aux != 0:\n",
    "        first_time = True\n",
    "\n",
    "    for i, message in enumerate(getNoteCurrentOnOf):\n",
    "        if message[2] == 1: \n",
    "            start_time = message[1]\n",
    "            for event in getNoteCurrentOnOf[i:]: \n",
    "                if event[0] == message[0] and event[2] == 0:\n",
    "                    length = event[1] - start_time\n",
    "                    break\n",
    "                \n",
    "            note_on_length_array.append([message[0], start_time, length])\n",
    "\n",
    "    if first_time == True:\n",
    "        i = 0\n",
    "        for note,timer,length in note_on_length_array:\n",
    "            timer = timer - aux\n",
    "            note_on_length_array[i]=[note, timer, length]\n",
    "            i = i+1\n",
    "    return note_on_length_array"
   ]
  },
  {
   "cell_type": "code",
   "execution_count": 8,
   "metadata": {},
   "outputs": [
    {
     "name": "stdout",
     "output_type": "stream",
     "text": [
      "Creating PianoRoll Matrix\n",
      "D:\\Programming\\Musicron-LSTM\\Songs\\chpn-p18.mid\n",
      "Ab\n",
      "Same key\n",
      "changeKey\n",
      "getNoteCurrentOnOf\n",
      "<function getNoteStartLength at 0x0000017E8DD195E0>\n",
      "Creating PianoRoll Matrix\n",
      "D:\\Programming\\Musicron-LSTM\\Songs\\chpn-p18.mid\n",
      "Ab\n",
      "Same key\n",
      "changeKey\n",
      "getNoteCurrentOnOf\n",
      "<function getNoteStartLength at 0x0000017E8DD195E0>\n"
     ]
    }
   ],
   "source": [
    "def createPianoRoll(files_dir, ticks, nr_training, comp_factor, ch_key, number_octaves, type):\n",
    "    print('Creating PianoRoll Matrix')\n",
    "    number_notes = number_octaves*12\n",
    "    piano_roll = np.zeros((nr_training,ticks, number_notes))\n",
    "    \n",
    "    piano_roll_velocity = np.zeros((nr_training,ticks, number_notes))\n",
    "    counter = 0\n",
    "    for i, file in enumerate(listdir(files_dir)):\n",
    "        if counter<nr_training:\n",
    "            counter = counter + 1\n",
    "            file_path = os.path.join(files_dir,file)\n",
    "            mid = MidiFile(file_path)\n",
    "            print(file_path)\n",
    "            key = getKey(mid)\n",
    "            print(key)\n",
    "            \n",
    "            if key != ch_key:\n",
    "                print('Transposing %s to %s' % (key, ch_key))\n",
    "                transpose, low_note = changeKey(key, ch_key)\n",
    "                high_note = low_note + number_octaves*12\n",
    "            else:\n",
    "                print('Same key')\n",
    "                transpose, low_note = changeKey(key, ch_key)\n",
    "                high_note = low_note + number_octaves*12\n",
    "        \n",
    "            note_time_onoff = getNoteCurrentOnOf(mid, comp_factor, transpose, type)\n",
    "            note_on_length = getNoteStartLength(note_time_onoff)\n",
    "            for message in note_on_length:\n",
    "                if(message[0]<low_note):\n",
    "                    while(message[0]<low_note):\n",
    "                        message[0] = message[0] + 12\n",
    "                    piano_roll[i,message[1]:(message[1]+int(message[2]/2)), message[0]-low_note] = 1\n",
    "                elif(message[0]>=high_note):\n",
    "                    while(message[0]>=high_note):\n",
    "                        message[0] = message[0] - 12\n",
    "                    piano_roll[i,message[1]:(message[1]+int(message[2]/2)),message[0]-low_note] = 1\n",
    "                else:\n",
    "                    piano_roll[i,message[1]:(message[1]+int(message[2]/2)), message[0]-low_note] =  1\n",
    "          \n",
    "    return piano_roll, low_note, note_on_length\n",
    "mel_roll, low_note, note_on_length = createPianoRoll(mel_train_files, mel_ticks, NR_TRAINING, COMPRESSION_FACTOR,CH_KEY, NUMBER_OCTAVES, INSTRUMENT)\n",
    "mel_roll_harmony, low_note_harmony, note_on_length_harmony = createPianoRoll(mel_train_files, mel_ticks, NR_TRAINING, COMPRESSION_FACTOR,CH_KEY, NUMBER_OCTAVES, INSTRUMENT_HARMONY)"
   ]
  },
  {
   "cell_type": "markdown",
   "metadata": {},
   "source": [
    "<h1>Get Sequence Length</h1>"
   ]
  },
  {
   "cell_type": "markdown",
   "metadata": {},
   "source": [
    "<h3> We take 1 measure </h3>\n",
    "<p> 1 measure in 4/4 time at 480 ticks per beat(tpb) </p>\n",
    "<ul>0. measure n = [Start_line,     End_line] </ul>\n",
    "<ul>1. measure 1 = [0,              1*4*480 - 1]</ul>\n",
    "<ul>2. measure 2 = [1*4*480,        2*4*480 - 1] </ul>\n",
    "<ul>3. measure 3 = [2*4*480,        3*4*480-1]</ul>\n",
    "\n",
    "<b> Return: dictionary that contains a list of the time signatures and sequence length"
   ]
  },
  {
   "cell_type": "code",
   "execution_count": 9,
   "metadata": {},
   "outputs": [
    {
     "data": {
      "text/plain": [
       "\"def timeSignature(mel_train_files, numerator, denominator, note_on_length):\\n    print('timeSignature')\\n    num_files = len(mel_train_files)\\n    time_sig = np.zeros(num_files)\\n    dict = {}\\n    for i,file_name in enumerate(listdir(mel_train_files)):\\n        # print(file_dir)\\n        file_path = os.path.join(mel_train_files,file_name)\\n        mid = MidiFile(file_path)   \\n        ts = []\\n        sq = []               \\n        for track in mid.tracks:\\n            for message in track:\\n                if(message.type == 'time_signature'):\\n                    #if message.denominator == 4:\\n                    if file_name == 'chpn-p18.mid':\\n                        seq_length = mid.ticks_per_beat * message.numerator\\n                        sq.append(seq_length)\\n                        aux = str(message.numerator)+ '//' + str(message.denominator)\\n                        ts.append(aux)\\n                        dict[file_name] = (ts, sq, mid.ticks_per_beat)\\n                #if(message.numerator == numerator and message.denominator == denominator):\\n\\n     \\n    return time_sig\\n \\nseq_length = timeSignature(mel_train_files,NUMERATOR,DENOMINATOR, note_on_length) \\n\\nseq_length = np.array(note_on_length)\""
      ]
     },
     "execution_count": 9,
     "metadata": {},
     "output_type": "execute_result"
    }
   ],
   "source": [
    "# May be of used in the future\n",
    "'''def timeSignature(mel_train_files, numerator, denominator, note_on_length):\n",
    "    print('timeSignature')\n",
    "    num_files = len(mel_train_files)\n",
    "    time_sig = np.zeros(num_files)\n",
    "    dict = {}\n",
    "    for i,file_name in enumerate(listdir(mel_train_files)):\n",
    "        # print(file_dir)\n",
    "        file_path = os.path.join(mel_train_files,file_name)\n",
    "        mid = MidiFile(file_path)   \n",
    "        ts = []\n",
    "        sq = []               \n",
    "        for track in mid.tracks:\n",
    "            for message in track:\n",
    "                if(message.type == 'time_signature'):\n",
    "                    #if message.denominator == 4:\n",
    "                    if file_name == 'chpn-p18.mid':\n",
    "                        seq_length = mid.ticks_per_beat * message.numerator\n",
    "                        sq.append(seq_length)\n",
    "                        aux = str(message.numerator)+ '//' + str(message.denominator)\n",
    "                        ts.append(aux)\n",
    "                        dict[file_name] = (ts, sq, mid.ticks_per_beat)\n",
    "                #if(message.numerator == numerator and message.denominator == denominator):\n",
    "\n",
    "     \n",
    "    return time_sig\n",
    " \n",
    "seq_length = timeSignature(mel_train_files,NUMERATOR,DENOMINATOR, note_on_length) \n",
    "\n",
    "seq_length = np.array(note_on_length)'''\n",
    "\n",
    "#durations = seq_length[:,1]"
   ]
  },
  {
   "cell_type": "code",
   "execution_count": 10,
   "metadata": {},
   "outputs": [],
   "source": [
    "class TimeSignature():\n",
    "    def __init__(self, numerator, denominator, tpb):\n",
    "        self._numerator = numerator\n",
    "        self._denominator = denominator      \n",
    "        self._tpb = tpb\n",
    "        \n",
    "        #self.nr_ticks = nr_ticks\n",
    "        #self.time_signature_duration = ts_duration\n",
    "        #self.measure_length = 0\n",
    "        self._time_signature_duration = 0\n",
    "        self._ts_duration_ticks = 0\n",
    "        \n",
    "    def set_measure_length(self):\n",
    "        self.measure_length = self._numerator*self._tpb - 1\n",
    "        \n",
    "    \n",
    "    def get_number_of_measures(self):\n",
    "        pass\n",
    "    \n",
    "    def get_start_time_ticks(self):\n",
    "        pass\n",
    "    \n",
    "    def get_end_time_ticks(self):\n",
    "        pass\n",
    "        \n",
    "    def set_ts_end_ticks(self, duration_ticks):\n",
    "        self._ts_duration_ticks = duration_ticks\n",
    "        \n",
    "    #def get_measure_length(self):\n",
    "        #return self.measure_length\n",
    "    \n",
    "    def get_nth_measure_length(self, measure_number):\n",
    "        return (measure_number-1 * self._numerator * self._tpb, measure_number * self._numerator * self._tpb)\n",
    "    \n",
    "    def get_measure_length(self):\n",
    "        return self._numerator * self._tpb\n",
    "    \n",
    "    def get_ts_end_ticks(self):\n",
    "        return self._ts_duration_ticks\n",
    "    \n",
    "    def get_numerator(self):\n",
    "        return self._numerator\n",
    "\n",
    "    def get_denominator(self):\n",
    "        return self._denominator\n",
    "    \n",
    "    def get_tpb(self):\n",
    "        return self._tpb\n",
    "\n",
    "    \n",
    "    \n",
    "    \n",
    "        \n",
    "        "
   ]
  },
  {
   "cell_type": "code",
   "execution_count": 11,
   "metadata": {},
   "outputs": [
    {
     "name": "stdout",
     "output_type": "stream",
     "text": [
      "timeSignature\n"
     ]
    }
   ],
   "source": [
    "def seqLength(mel_train_files, numerator, denominator, note_on_length):\n",
    "    print('timeSignature')\n",
    "    num_files = len(mel_train_files)\n",
    "    time_sig = np.zeros(num_files)\n",
    "    dict = {}\n",
    "    for i,file_name in enumerate(listdir(mel_train_files)):\n",
    "        # print(file_dir)\n",
    "        file_path = os.path.join(mel_train_files,file_name)\n",
    "        mid = MidiFile(file_path)   \n",
    "        counter_ts = 0\n",
    "        aux_time = 0       \n",
    "        dict[file_name] =[]       \n",
    "        for track in mid.tracks:\n",
    "            for message in track:    \n",
    "                if(message.type == 'time_signature'):\n",
    "                    aux_time += message.time\n",
    "                    if counter_ts > 0:\n",
    "                        ts_object.set_ts_end_ticks(aux_time - 1)\n",
    "                        \n",
    "                    ts_object = TimeSignature(message.numerator, message.denominator, mid.ticks_per_beat)\n",
    "                    ts_object.set_measure_length()\n",
    "                    \n",
    "                    dict[file_name].append(ts_object)\n",
    "                    counter_ts += 1\n",
    "                    \n",
    "                elif (message.type == 'set_tempo'):\n",
    "                    aux_time += message.time\n",
    "                #if(message.numerator == numerator and message.denominator == denominator):\n",
    "\n",
    "        ts_object.set_ts_end_ticks(aux_time - 1)\n",
    "    return dict\n",
    " \n",
    "seq_length_structure = seqLength(mel_train_files,NUMERATOR,DENOMINATOR, note_on_length) \n"
   ]
  },
  {
   "cell_type": "code",
   "execution_count": 12,
   "metadata": {},
   "outputs": [
    {
     "data": {
      "text/plain": [
       "\"def seqLength(mel_train_files, numerator, denominator, note_on_length):\\n    print('timeSignature')\\n    num_files = len(mel_train_files)\\n    time_sig = np.zeros(num_files)\\n    dict = {}\\n    for i,file_name in enumerate(listdir(mel_train_files)):\\n        # print(file_dir)\\n        file_path = os.path.join(mel_train_files,file_name)\\n        mid = MidiFile(file_path)   \\n        ts = []\\n        sq = []\\n        aux_time = 0              \\n        for track in mid.tracks:\\n            for message in track:\\n                if(message.type == 'time_signature'):\\n                    aux_time += message.time\\n                    #if message.numerator == 5:\\n                    #if file_name == 'chpn-p18.mid':\\n                    seq_length = mid.ticks_per_beat\\n                    sq.append(seq_length)\\n                    aux = str(message.numerator)+ '//' + str(message.denominator)\\n                    ts.append(aux)\\n                    #dict[file_name] = (ts, sq, mid.ticks_per_beat)\\n                    dict[file_name] = (ts, sq)\\n                elif (message.type == 'get_tempo'):\\n                    aux_time += message.time\\n                #if(message.numerator == numerator and message.denominator == denominator):\\n\\n     \\n    return dict\\n    \\n \\nseq_length_structure = seqLength(mel_train_files,NUMERATOR,DENOMINATOR, note_on_length) \\n\""
      ]
     },
     "execution_count": 12,
     "metadata": {},
     "output_type": "execute_result"
    }
   ],
   "source": [
    "'''def seqLength(mel_train_files, numerator, denominator, note_on_length):\n",
    "    print('timeSignature')\n",
    "    num_files = len(mel_train_files)\n",
    "    time_sig = np.zeros(num_files)\n",
    "    dict = {}\n",
    "    for i,file_name in enumerate(listdir(mel_train_files)):\n",
    "        # print(file_dir)\n",
    "        file_path = os.path.join(mel_train_files,file_name)\n",
    "        mid = MidiFile(file_path)   \n",
    "        ts = []\n",
    "        sq = []\n",
    "        aux_time = 0              \n",
    "        for track in mid.tracks:\n",
    "            for message in track:\n",
    "                if(message.type == 'time_signature'):\n",
    "                    aux_time += message.time\n",
    "                    #if message.numerator == 5:\n",
    "                    #if file_name == 'chpn-p18.mid':\n",
    "                    seq_length = mid.ticks_per_beat\n",
    "                    sq.append(seq_length)\n",
    "                    aux = str(message.numerator)+ '//' + str(message.denominator)\n",
    "                    ts.append(aux)\n",
    "                    #dict[file_name] = (ts, sq, mid.ticks_per_beat)\n",
    "                    dict[file_name] = (ts, sq)\n",
    "                elif (message.type == 'get_tempo'):\n",
    "                    aux_time += message.time\n",
    "                #if(message.numerator == numerator and message.denominator == denominator):\n",
    "\n",
    "     \n",
    "    return dict\n",
    "    \n",
    " \n",
    "seq_length_structure = seqLength(mel_train_files,NUMERATOR,DENOMINATOR, note_on_length) \n",
    "'''"
   ]
  },
  {
   "cell_type": "code",
   "execution_count": 13,
   "metadata": {},
   "outputs": [
    {
     "name": "stdout",
     "output_type": "stream",
     "text": [
      "here\n"
     ]
    }
   ],
   "source": [
    "def createNeuralInputs(mel_roll, seq_length):\n",
    "    X_train = []\n",
    "    #aux2 = np.empty()\n",
    "    for (song_idx, song),(s) in zip(enumerate(mel_roll),seq_length):\n",
    "        measure_start = 0\n",
    "        measure_end = 0\n",
    "        nr_measures = 0\n",
    "        for ts_object in seq_length[s]:\n",
    "            while measure_end < ts_object.get_ts_end_ticks() and measure_end<song.shape[0]:\n",
    "                measure_end = measure_end + ts_object.get_measure_length()\n",
    "                X_train += [song[measure_start:measure_end]]\n",
    "                measure_start = measure_end \n",
    "                #measure_end += 1 #Be careful\n",
    "                aux = X_train[nr_measures]\n",
    "                nr_measures += 1\n",
    "                #aux2 += song[measure_start:measure_end]\n",
    "                #print(aux[0])\n",
    "                #print(aux[len(aux)-1])\n",
    "                #print('here')\n",
    "               #measure_end += ts_object.measure_length\n",
    "            #print(\"here\")\n",
    "        return X_train\n",
    "\n",
    "            \n",
    "\n",
    "\n",
    "\n",
    "seq_length = []\n",
    "Y_train = createNeuralInputs(mel_roll,seq_length_structure)\n",
    "X_train = createNeuralInputs(mel_roll_harmony,seq_length_structure)\n",
    "print(\"here\")"
   ]
  },
  {
   "cell_type": "code",
   "execution_count": 14,
   "metadata": {},
   "outputs": [
    {
     "data": {
      "text/plain": [
       "'def createNeuralInputs(mel_roll, seq_length):\\n    X_train = []\\n    for (song_idx, song),(s) in zip(enumerate(mel_roll),seq_length):\\n        measure_start = 0\\n        measure_end = 0\\n        nr_measures = 0\\n        for ts_object in seq_length[s]:\\n            while measure_end < ts_object.get_ts_duration_ticks() and measure_end<song.shape[0]:\\n                measure_end = measure_end + ts_object.measure_length()\\n                X_train += [song[measure_start:measure_end]]\\n                measure_start = measure_end \\n                measure_end += 1\\n                aux = X_train[nr_measures]\\n                nr_measures += 1\\n                #print(aux[0])\\n                #print(aux[len(aux)-1])\\n                #print(\\'here\\')\\n               #measure_end += ts_object.measure_length\\n            #print(\"here\")\\n        #print(\"here\")\\n    return X_train\\n\\n            \\n\\n\\n\\nseq_length = []\\nY_train = createNeuralInputs(mel_roll,seq_length_structure)\\nX_train = createNeuralInputs(mel_roll_harmony,seq_length_structure)'"
      ]
     },
     "execution_count": 14,
     "metadata": {},
     "output_type": "execute_result"
    }
   ],
   "source": [
    "'''def createNeuralInputs(mel_roll, seq_length):\n",
    "    X_train = []\n",
    "    for (song_idx, song),(s) in zip(enumerate(mel_roll),seq_length):\n",
    "        measure_start = 0\n",
    "        measure_end = 0\n",
    "        nr_measures = 0\n",
    "        for ts_object in seq_length[s]:\n",
    "            while measure_end < ts_object.get_ts_duration_ticks() and measure_end<song.shape[0]:\n",
    "                measure_end = measure_end + ts_object.measure_length()\n",
    "                X_train += [song[measure_start:measure_end]]\n",
    "                measure_start = measure_end \n",
    "                measure_end += 1\n",
    "                aux = X_train[nr_measures]\n",
    "                nr_measures += 1\n",
    "                #print(aux[0])\n",
    "                #print(aux[len(aux)-1])\n",
    "                #print('here')\n",
    "               #measure_end += ts_object.measure_length\n",
    "            #print(\"here\")\n",
    "        #print(\"here\")\n",
    "    return X_train\n",
    "\n",
    "            \n",
    "\n",
    "\n",
    "\n",
    "seq_length = []\n",
    "Y_train = createNeuralInputs(mel_roll,seq_length_structure)\n",
    "X_train = createNeuralInputs(mel_roll_harmony,seq_length_structure)'''"
   ]
  },
  {
   "cell_type": "code",
   "execution_count": 15,
   "metadata": {},
   "outputs": [],
   "source": [
    "from functools import reduce\n",
    "\n",
    "##seq_length = 1440\n"
   ]
  },
  {
   "cell_type": "code",
   "execution_count": 16,
   "metadata": {},
   "outputs": [],
   "source": [
    "#dict = {'C':48, 'C#':49,'Db':49, 'D':50, 'D#':51,'Eb':51, 'E':52, 'F': 53, 'F#':54,'Gb':54, 'G':55, 'G#':56,'Ab':56, 'A':57, 'A#':58,'Bb':58,'B':59}\n",
    "dict = {'B':47,'C':48, 'C#':49,'D':50, 'D#':51, 'E':52, 'F': 53, 'F#':54, 'G':55, 'G#':56,'A':57, 'A#':58}\n",
    "#columns= sorted(dict, key=dict.get, reverse=True)\n",
    "columns = list(dict.keys())\n",
    "\n",
    "columns = columns * 3\n",
    "len(columns)\n",
    "tmp = 2\n",
    "for i in range(len(columns)):\n",
    "    if i % 17 == 0:\n",
    "        tmp += 1\n",
    "    columns[i] = columns[i] + str(tmp)\n",
    "#dict = {'C':48, 'C#':49,'Db':49, 'D':50, 'D#':51,'Eb':51, 'E':52, 'F': 53, 'F#':54,'Gb':54, 'G':55, 'G#':56,'Ab':56, 'A':57, 'A#':58,'Bb':58,'B':59}\n",
    "dict = {'B':47,'C':48, 'C#':49,'D':50, 'D#':51, 'E':52, 'F': 53, 'F#':54, 'G':55, 'G#':56,'A':57, 'A#':58}\n",
    "#columns= sorted(dict, key=dict.get, reverse=True)\n",
    "columns = list(dict.keys())\n",
    "\n",
    "columns = columns * 3\n",
    "len(columns)\n",
    "tmp = 2\n",
    "for i in range(len(columns)):\n",
    "    if i % 17 == 0:\n",
    "        tmp += 1\n",
    "    columns[i] = columns[i] + str(tmp)\n",
    "aux_columns = columns[columns.index('C3'):]"
   ]
  },
  {
   "cell_type": "code",
   "execution_count": 17,
   "metadata": {},
   "outputs": [
    {
     "data": {
      "text/plain": [
       "'start_measure7 = 6*4*480\\nend_measure7 =  7*4*480\\n#df = pd.DataFrame(mel_roll[0,4320:8640])\\ndf = pd.DataFrame(mel_roll[0,:])\\ndf.columns = aux_columns[:len(df.columns)]\\ndf.to_csv(\"input.csv\" , index=True)\\n'"
      ]
     },
     "execution_count": 17,
     "metadata": {},
     "output_type": "execute_result"
    }
   ],
   "source": [
    "#measure 3 = [2*4*480 - 1,    3*4*480-1]</ul>\n",
    "'''start_measure7 = 6*4*480\n",
    "end_measure7 =  7*4*480\n",
    "#df = pd.DataFrame(mel_roll[0,4320:8640])\n",
    "df = pd.DataFrame(mel_roll[0,:])\n",
    "df.columns = aux_columns[:len(df.columns)]\n",
    "df.to_csv(\"input.csv\" , index=True)\n",
    "'''"
   ]
  },
  {
   "cell_type": "code",
   "execution_count": 18,
   "metadata": {},
   "outputs": [],
   "source": [
    "#df.head(100)"
   ]
  },
  {
   "cell_type": "code",
   "execution_count": 19,
   "metadata": {},
   "outputs": [
    {
     "name": "stdout",
     "output_type": "stream",
     "text": [
      "here\n"
     ]
    }
   ],
   "source": [
    "from utilities import midi_utilities as mu"
   ]
  },
  {
   "cell_type": "code",
   "execution_count": 20,
   "metadata": {},
   "outputs": [],
   "source": [
    "song_name = list(seq_length_structure.keys())[0]\n",
    "mu.createMidiFromPianoRoll(seq_length_structure[song_name][0].get_tpb(), Y_train,r'D:\\Programming\\Musicron-LSTM\\Tester-Inputs','Y_train', 1)"
   ]
  },
  {
   "cell_type": "code",
   "execution_count": 21,
   "metadata": {},
   "outputs": [],
   "source": [
    "song_name = list(seq_length_structure.keys())[0]\n",
    "mu.createMidiFromPianoRoll(seq_length_structure[song_name][0].get_tpb(), X_train,r'D:\\Programming\\Musicron-LSTM\\Tester-Inputs','X_train', 1)"
   ]
  },
  {
   "cell_type": "code",
   "execution_count": null,
   "metadata": {},
   "outputs": [],
   "source": []
  }
 ],
 "metadata": {
  "interpreter": {
   "hash": "719bf381fce8d95044ac93c885891d6eb8810e0c18f9d5f316b2bc9962776baf"
  },
  "kernelspec": {
   "display_name": "Python 3.9.7 ('base')",
   "language": "python",
   "name": "python3"
  },
  "language_info": {
   "codemirror_mode": {
    "name": "ipython",
    "version": 3
   },
   "file_extension": ".py",
   "mimetype": "text/x-python",
   "name": "python",
   "nbconvert_exporter": "python",
   "pygments_lexer": "ipython3",
   "version": "3.9.7"
  },
  "orig_nbformat": 4
 },
 "nbformat": 4,
 "nbformat_minor": 2
}
