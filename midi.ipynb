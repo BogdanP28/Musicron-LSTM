{
 "cells": [
  {
   "cell_type": "markdown",
   "metadata": {},
   "source": [
    "<h3>Imports</h3>"
   ]
  },
  {
   "cell_type": "code",
   "execution_count": 23,
   "metadata": {},
   "outputs": [],
   "source": [
    "\n",
    "from mido import MidiFile, MidiTrack, Message\n",
    "from mido.midifiles import MetaMessage\n",
    "from os import listdir\n",
    "import os\n",
    "import numpy as np\n",
    "import pandas as pd"
   ]
  },
  {
   "cell_type": "markdown",
   "metadata": {},
   "source": [
    "<h3>CONSTANTS</h3>"
   ]
  },
  {
   "cell_type": "code",
   "execution_count": 24,
   "metadata": {},
   "outputs": [],
   "source": [
    "NR_TRAINING = 1\n",
    "COMPRESSION_FACTOR = 1\n",
    "CH_KEY = 'G'\n",
    "NUMBER_OCTAVES = 3"
   ]
  },
  {
   "cell_type": "code",
   "execution_count": 25,
   "metadata": {},
   "outputs": [],
   "source": [
    "def changeKey(key, ch_key):\n",
    "    print('changeKey')\n",
    "    dict = {'C':48, 'C#':49,'Db':49, 'D':50, 'D#':51,'Eb':51, 'E':52, 'F': 53, 'F#':54,'Gb':54, 'G':55, 'G#':56,'Ab':56, 'A':57, 'A#':58,'Bb':58,'B':59}\n",
    "    for dict_key, value in dict.items():\n",
    "        dict[dict_key] = value - 24\n",
    "    if key!= ch_key:\n",
    "        transposition = abs(dict[key]-dict[ch_key])\n",
    "        #print(transposition)\n",
    "    else:\n",
    "        transposition = 0\n",
    "    \n",
    "    return transposition, dict[ch_key]\n"
   ]
  },
  {
   "cell_type": "code",
   "execution_count": 26,
   "metadata": {},
   "outputs": [],
   "source": [
    "def getKey(mid):\n",
    "    for track in mid.tracks:\n",
    "        for message in track:\n",
    "            if message.type == 'key_signature':\n",
    "                return message.key"
   ]
  },
  {
   "cell_type": "code",
   "execution_count": null,
   "metadata": {},
   "outputs": [],
   "source": []
  },
  {
   "cell_type": "code",
   "execution_count": 27,
   "metadata": {},
   "outputs": [],
   "source": [
    "def getNoteStartLength(getNoteCurrentOnOf):\n",
    "    print(getNoteStartLength)\n",
    "    note_on_length_array = []\n",
    "    first_time = False\n",
    "    aux = 0\n",
    "    b = [x[1] for x in getNoteCurrentOnOf]\n",
    "    aux = b[0]\n",
    "    if aux != 0:\n",
    "        first_time = True\n",
    "\n",
    "    for i, message in enumerate(getNoteCurrentOnOf):\n",
    "        if message[2] == 1: \n",
    "            start_time = message[1]\n",
    "            for event in getNoteCurrentOnOf[i:]: \n",
    "                if event[0] == message[0] and event[2] == 0:\n",
    "                    length = event[1] - start_time\n",
    "                    break\n",
    "                \n",
    "            note_on_length_array.append([message[0], start_time, length])\n",
    "\n",
    "    if first_time == True:\n",
    "        i = 0\n",
    "        for note,timer,length in note_on_length_array:\n",
    "            timer = timer - aux\n",
    "            note_on_length_array[i]=[note, timer, length]\n",
    "            i = i+1\n",
    "    return note_on_length_array"
   ]
  },
  {
   "cell_type": "code",
   "execution_count": 28,
   "metadata": {},
   "outputs": [],
   "source": [
    "def getTicks(files_dir,nr_training, comp_factor=1, type='Piano left'):\n",
    "    print('Getting Ticks')\n",
    "    ticks = []\n",
    "    counter = 0\n",
    "    #for file_dir in files_dir:\n",
    "    for file_path in listdir(files_dir):\n",
    "        file_path = os.path.join(files_dir,file_path)\n",
    "        if counter<nr_training:\n",
    "            print(file_path)\n",
    "            counter = counter+1\n",
    "            mid = MidiFile(file_path)                  \n",
    "            for track in mid.tracks:\n",
    "                if(track.name==type):\n",
    "                    num_ticks = 0          \n",
    "                    for message in track:\n",
    "                        if not isinstance(message, MetaMessage):\n",
    "                           if(message.type=='note_on'):\n",
    "                                num_ticks += int(message.time/comp_factor)\n",
    "                        ticks.append(num_ticks)\n",
    "    #print(int(sum(ticks)/len(ticks)))\n",
    "    #return int(sum(ticks)/len(ticks))\n",
    "    return max(ticks)"
   ]
  },
  {
   "cell_type": "code",
   "execution_count": null,
   "metadata": {},
   "outputs": [],
   "source": []
  },
  {
   "cell_type": "code",
   "execution_count": 29,
   "metadata": {},
   "outputs": [],
   "source": [
    "midi_file = 'D:\\\\Programming\\\\Musicron_LSTM\\\\Songs'\n",
    "mel_train_files = midi_file\n",
    "\n",
    "nr_training = NR_TRAINING\n",
    "compression_factor = COMPRESSION_FACTOR\n",
    "ch_key = CH_KEY\n",
    "number_octaves = NUMBER_OCTAVES"
   ]
  },
  {
   "cell_type": "code",
   "execution_count": 30,
   "metadata": {},
   "outputs": [
    {
     "name": "stdout",
     "output_type": "stream",
     "text": [
      "Getting Ticks\n",
      "D:\\Programming\\Musicron_LSTM\\Songs\\chp_op18.mid\n"
     ]
    }
   ],
   "source": [
    "mel_ticks = getTicks(midi_file, 1, compression_factor, type='Piano left')"
   ]
  },
  {
   "cell_type": "code",
   "execution_count": 31,
   "metadata": {},
   "outputs": [],
   "source": [
    "def getNoteCurrentOnOf(mid, comp_factor, transpose, type):\n",
    "    print('getNoteCurrentOnOf')\n",
    "    getNoteCurrentOnOf = []\n",
    "    velocity =[]\n",
    "    for track in mid.tracks:\n",
    "        if(track.name==type):\n",
    "            current_time = 0\n",
    "            for message in track:\n",
    "                    if not isinstance(message, MetaMessage):\n",
    "                        current_time += int(message.time/comp_factor)\n",
    "                        bol = False\n",
    "                        if (message.type == 'note_on'):\n",
    "                            if(message.velocity!=0):\n",
    "                                note_onoff = 1\n",
    "                                bol = True\n",
    "                            else:\n",
    "                                note_onoff = 0\n",
    "                                bol = True\n",
    "                        if (message.type == 'note_off'):\n",
    "                            note_onoff = 0\n",
    "                            bol = True\n",
    "                        if (message.type == 'velocity'):\n",
    "                            print(\"here\")\n",
    "                            \n",
    "                        if(bol==True):\n",
    "                            getNoteCurrentOnOf.append([message.note+(12-transpose), current_time, note_onoff])\n",
    "                            velocity.append(message.velocity)\n",
    "      \n",
    "    return getNoteCurrentOnOf"
   ]
  },
  {
   "cell_type": "code",
   "execution_count": 41,
   "metadata": {},
   "outputs": [
    {
     "name": "stdout",
     "output_type": "stream",
     "text": [
      "Creating PianoRoll Matrix\n",
      "D:\\Programming\\Musicron_LSTM\\Songs\\chp_op18.mid\n",
      "Eb\n",
      "Transposing Eb to G\n",
      "changeKey\n",
      "getNoteCurrentOnOf\n",
      "<function getNoteStartLength at 0x0000017DF4CC3A60>\n"
     ]
    }
   ],
   "source": [
    "def createPianoRoll(files_dir, ticks, nr_training, comp_factor, ch_key, number_octaves, type):\n",
    "    print('Creating PianoRoll Matrix')\n",
    "    number_notes = number_octaves*12\n",
    "    piano_roll = np.zeros((nr_training,ticks, number_notes))\n",
    "    \n",
    "    piano_roll_velocity = np.zeros((nr_training,ticks, number_notes))\n",
    "    counter = 0\n",
    "    for i, file in enumerate(listdir(files_dir)):\n",
    "        if counter<nr_training:\n",
    "            counter = counter + 1\n",
    "            file_path = os.path.join(files_dir,file)\n",
    "            mid = MidiFile(file_path)\n",
    "            print(file_path)\n",
    "            key = getKey(mid)\n",
    "            print(key)\n",
    "            if key != ch_key:\n",
    "                print('Transposing %s to %s' % (key, ch_key))\n",
    "                transpose, low_note = changeKey(key, ch_key)\n",
    "                high_note = low_note + number_octaves*12\n",
    "            else:\n",
    "                print('Same key')\n",
    "                transpose, low_note = changeKey(key, ch_key)\n",
    "                high_note = low_note + number_octaves*12\n",
    "        \n",
    "            note_time_onoff = getNoteCurrentOnOf(mid, comp_factor, transpose, type)\n",
    "            note_on_length = getNoteStartLength(note_time_onoff)\n",
    "            for message in note_on_length:\n",
    "                if(message[0]<low_note):\n",
    "                    while(message[0]<low_note):\n",
    "                        message[0] = message[0] + 12\n",
    "                    piano_roll[i,message[1]:(message[1]+int(message[2]/2)), message[0]-low_note] = 1\n",
    "                elif(message[0]>=high_note):\n",
    "                    while(message[0]>=high_note):\n",
    "                        message[0] = message[0] - 12\n",
    "                    piano_roll[i,message[1]:(message[1]+int(message[2]/2)),message[0]-low_note] = 1\n",
    "                else:\n",
    "                    piano_roll[i,message[1]:(message[1]+int(message[2]/2)), message[0]-low_note] =  1\n",
    "          \n",
    "    return piano_roll, low_note\n",
    "mel_roll, low_note = createPianoRoll(mel_train_files, mel_ticks, nr_training, compression_factor,ch_key, number_octaves, 'Piano left')"
   ]
  },
  {
   "cell_type": "code",
   "execution_count": 32,
   "metadata": {},
   "outputs": [],
   "source": [
    "df = pd.DataFrame(mel_roll[0,:,:])"
   ]
  },
  {
   "cell_type": "code",
   "execution_count": 33,
   "metadata": {},
   "outputs": [
    {
     "data": {
      "text/html": [
       "<div>\n",
       "<style scoped>\n",
       "    .dataframe tbody tr th:only-of-type {\n",
       "        vertical-align: middle;\n",
       "    }\n",
       "\n",
       "    .dataframe tbody tr th {\n",
       "        vertical-align: top;\n",
       "    }\n",
       "\n",
       "    .dataframe thead th {\n",
       "        text-align: right;\n",
       "    }\n",
       "</style>\n",
       "<table border=\"1\" class=\"dataframe\">\n",
       "  <thead>\n",
       "    <tr style=\"text-align: right;\">\n",
       "      <th></th>\n",
       "      <th>0</th>\n",
       "      <th>1</th>\n",
       "      <th>2</th>\n",
       "      <th>3</th>\n",
       "      <th>4</th>\n",
       "      <th>5</th>\n",
       "      <th>6</th>\n",
       "      <th>7</th>\n",
       "      <th>8</th>\n",
       "      <th>9</th>\n",
       "      <th>...</th>\n",
       "      <th>26</th>\n",
       "      <th>27</th>\n",
       "      <th>28</th>\n",
       "      <th>29</th>\n",
       "      <th>30</th>\n",
       "      <th>31</th>\n",
       "      <th>32</th>\n",
       "      <th>33</th>\n",
       "      <th>34</th>\n",
       "      <th>35</th>\n",
       "    </tr>\n",
       "  </thead>\n",
       "  <tbody>\n",
       "    <tr>\n",
       "      <th>0</th>\n",
       "      <td>0</td>\n",
       "      <td>0</td>\n",
       "      <td>0</td>\n",
       "      <td>0</td>\n",
       "      <td>0</td>\n",
       "      <td>0</td>\n",
       "      <td>0</td>\n",
       "      <td>0</td>\n",
       "      <td>0</td>\n",
       "      <td>0</td>\n",
       "      <td>...</td>\n",
       "      <td>0</td>\n",
       "      <td>0</td>\n",
       "      <td>0</td>\n",
       "      <td>0</td>\n",
       "      <td>0</td>\n",
       "      <td>0</td>\n",
       "      <td>0</td>\n",
       "      <td>0</td>\n",
       "      <td>0</td>\n",
       "      <td>0</td>\n",
       "    </tr>\n",
       "    <tr>\n",
       "      <th>1</th>\n",
       "      <td>0</td>\n",
       "      <td>0</td>\n",
       "      <td>0</td>\n",
       "      <td>0</td>\n",
       "      <td>0</td>\n",
       "      <td>0</td>\n",
       "      <td>0</td>\n",
       "      <td>0</td>\n",
       "      <td>0</td>\n",
       "      <td>0</td>\n",
       "      <td>...</td>\n",
       "      <td>0</td>\n",
       "      <td>0</td>\n",
       "      <td>0</td>\n",
       "      <td>0</td>\n",
       "      <td>0</td>\n",
       "      <td>0</td>\n",
       "      <td>0</td>\n",
       "      <td>0</td>\n",
       "      <td>0</td>\n",
       "      <td>0</td>\n",
       "    </tr>\n",
       "    <tr>\n",
       "      <th>2</th>\n",
       "      <td>0</td>\n",
       "      <td>0</td>\n",
       "      <td>0</td>\n",
       "      <td>0</td>\n",
       "      <td>0</td>\n",
       "      <td>0</td>\n",
       "      <td>0</td>\n",
       "      <td>0</td>\n",
       "      <td>0</td>\n",
       "      <td>0</td>\n",
       "      <td>...</td>\n",
       "      <td>0</td>\n",
       "      <td>0</td>\n",
       "      <td>0</td>\n",
       "      <td>0</td>\n",
       "      <td>0</td>\n",
       "      <td>0</td>\n",
       "      <td>0</td>\n",
       "      <td>0</td>\n",
       "      <td>0</td>\n",
       "      <td>0</td>\n",
       "    </tr>\n",
       "    <tr>\n",
       "      <th>3</th>\n",
       "      <td>0</td>\n",
       "      <td>0</td>\n",
       "      <td>0</td>\n",
       "      <td>0</td>\n",
       "      <td>0</td>\n",
       "      <td>0</td>\n",
       "      <td>0</td>\n",
       "      <td>0</td>\n",
       "      <td>0</td>\n",
       "      <td>0</td>\n",
       "      <td>...</td>\n",
       "      <td>0</td>\n",
       "      <td>0</td>\n",
       "      <td>0</td>\n",
       "      <td>0</td>\n",
       "      <td>0</td>\n",
       "      <td>0</td>\n",
       "      <td>0</td>\n",
       "      <td>0</td>\n",
       "      <td>0</td>\n",
       "      <td>0</td>\n",
       "    </tr>\n",
       "    <tr>\n",
       "      <th>4</th>\n",
       "      <td>0</td>\n",
       "      <td>0</td>\n",
       "      <td>0</td>\n",
       "      <td>0</td>\n",
       "      <td>0</td>\n",
       "      <td>0</td>\n",
       "      <td>0</td>\n",
       "      <td>0</td>\n",
       "      <td>0</td>\n",
       "      <td>0</td>\n",
       "      <td>...</td>\n",
       "      <td>0</td>\n",
       "      <td>0</td>\n",
       "      <td>0</td>\n",
       "      <td>0</td>\n",
       "      <td>0</td>\n",
       "      <td>0</td>\n",
       "      <td>0</td>\n",
       "      <td>0</td>\n",
       "      <td>0</td>\n",
       "      <td>0</td>\n",
       "    </tr>\n",
       "  </tbody>\n",
       "</table>\n",
       "<p>5 rows × 36 columns</p>\n",
       "</div>"
      ],
      "text/plain": [
       "   0   1   2   3   4   5   6   7   8   9   ...  26  27  28  29  30  31  32  \\\n",
       "0   0   0   0   0   0   0   0   0   0   0  ...   0   0   0   0   0   0   0   \n",
       "1   0   0   0   0   0   0   0   0   0   0  ...   0   0   0   0   0   0   0   \n",
       "2   0   0   0   0   0   0   0   0   0   0  ...   0   0   0   0   0   0   0   \n",
       "3   0   0   0   0   0   0   0   0   0   0  ...   0   0   0   0   0   0   0   \n",
       "4   0   0   0   0   0   0   0   0   0   0  ...   0   0   0   0   0   0   0   \n",
       "\n",
       "   33  34  35  \n",
       "0   0   0   0  \n",
       "1   0   0   0  \n",
       "2   0   0   0  \n",
       "3   0   0   0  \n",
       "4   0   0   0  \n",
       "\n",
       "[5 rows x 36 columns]"
      ]
     },
     "execution_count": 33,
     "metadata": {},
     "output_type": "execute_result"
    }
   ],
   "source": [
    "df.head()"
   ]
  },
  {
   "cell_type": "code",
   "execution_count": 34,
   "metadata": {},
   "outputs": [],
   "source": [
    "df.to_csv(\"test_input%d.csv\" %1 , sep=' ',index=False)"
   ]
  },
  {
   "cell_type": "code",
   "execution_count": 35,
   "metadata": {},
   "outputs": [],
   "source": [
    "def NetOutToPianoRoll(network_output, threshold):\n",
    "    piano_roll = []\n",
    "    for i, timestep in enumerate(network_output):\n",
    "        if np.amax(timestep) > threshold:\n",
    "            pos = 0\n",
    "            pos = np.argmax(timestep)\n",
    "            timestep[:] = np.zeros(timestep.shape)\n",
    "            timestep[pos] = 1\n",
    "        else:\n",
    "            timestep[:] = np.zeros(timestep.shape)\n",
    "        piano_roll.append(timestep)\n",
    "       \n",
    "    return np.array(piano_roll)"
   ]
  },
  {
   "cell_type": "code",
   "execution_count": 36,
   "metadata": {},
   "outputs": [],
   "source": [
    "net_roll = NetOutToPianoRoll(mel_roll, threshold=0.4)"
   ]
  },
  {
   "cell_type": "code",
   "execution_count": 37,
   "metadata": {},
   "outputs": [],
   "source": [
    "def createMidi(n,piano_roll, directory, mel_test_file, threshold, rez_factor, tempo_new,low_note):\n",
    "    print(createMidi)\n",
    "  \n",
    "\n",
    "    ticks_per_beat = int(480)\n",
    "    mid = MidiFile(type=1, ticks_per_beat=ticks_per_beat)\n",
    "\n",
    "    track = MidiTrack()\n",
    "    \n",
    "    mid.tracks.append(track)\n",
    "\n",
    "    delta_times = [0]\n",
    "    time_list = []\n",
    "    track.append(MetaMessage('set_tempo', tempo=tempo_new))\n",
    "    for k in range(piano_roll.shape[1]):#initial starting values\n",
    "        if piano_roll[0, k].any() == 1:\n",
    "            track.append(Message('note_on', note=k+low_note, velocity=100, time=0))\n",
    "            delta_times.append(0)\n",
    "    counter = 0  \n",
    "    ok = False\n",
    "    first_note = True\n",
    "    for j in range(piano_roll.shape[0]-1):#all values between first and last one\n",
    "        ok = False\n",
    "        for k in range(piano_roll.shape[1]):\n",
    "            if (piano_roll[j+1, k] == 0 and piano_roll[j, k] == 1):\n",
    "                if first_note == True:\n",
    "                    time = (j+1)*rez_factor - sum(delta_times)\n",
    "                else:\n",
    "                    time = (j-counter+1)*rez_factor - sum(delta_times)\n",
    "                time_list.append(time)        \n",
    "                delta_times.append(time)\n",
    "                #counter = counter + 1\n",
    "                ok = True\n",
    "                if piano_roll[j+1, k] == 1 and piano_roll[j, k] == 0:\n",
    "                    track.append(Message('note_on', note=k+low_note, velocity=100, time=time))\n",
    "                if piano_roll[j+1, k] == 0 and piano_roll[j, k] == 1:\n",
    "                    track.append(Message('note_off', note=k+low_note, velocity=0, time=time))\n",
    "                counter=counter+1\n",
    "                    \n",
    "                    \n",
    "            if (piano_roll[j+1, k] == 1 and piano_roll[j, k] == 0):\n",
    "                if not time_list:\n",
    "                    time = 0\n",
    "                else:\n",
    "                    time = time_list.pop()\n",
    "                         \n",
    "                if piano_roll[j+1, k] == 1 and piano_roll[j, k] == 0:\n",
    "                    #track.append(Message('note_on', note=k+low_note, velocity=100, time=time))\n",
    "                    # Added 2022\n",
    "                    # Want to maintain legato\n",
    "                    track.append(Message('note_on', note=k+low_note, velocity=100, time=0))\n",
    "                if piano_roll[j+1, k] == 0 and piano_roll[j, k] == 1:\n",
    "                    track.append(Message('note_off', note=k+low_note, velocity=0, time=time))\n",
    "                ok = True\n",
    "                first_note=False\n",
    "            if ok == True:\n",
    "                break\n",
    "                             \n",
    "    mid.save(mel_test_file)"
   ]
  },
  {
   "cell_type": "code",
   "execution_count": 38,
   "metadata": {},
   "outputs": [
    {
     "name": "stdout",
     "output_type": "stream",
     "text": [
      "<function timeSignature at 0x0000017DE3F92820>\n"
     ]
    },
    {
     "name": "stderr",
     "output_type": "stream",
     "text": [
      "C:\\Users\\bogda\\AppData\\Local\\Temp/ipykernel_8500/3402539254.py:4: DeprecationWarning: `np.int` is a deprecated alias for the builtin `int`. To silence this warning, use `int` by itself. Doing this will not modify any behavior and is safe. When replacing `np.int`, you may wish to use e.g. `np.int64` or `np.int32` to specify the precision. If you wish to review your current use, check the release note link for additional information.\n",
      "Deprecated in NumPy 1.20; for more details and guidance: https://numpy.org/devdocs/release/1.20.0-notes.html#deprecations\n",
      "  time_sig = np.zeros((num_files), dtype=np.int)\n"
     ]
    },
    {
     "name": "stdout",
     "output_type": "stream",
     "text": [
      "chp_op18.mid         3 8 480\n"
     ]
    }
   ],
   "source": [
    "def timeSignature(files_dir, compression_factor, numerator, denominator):\n",
    "     print(timeSignature)\n",
    "     num_files = len(files_dir)\n",
    "     time_sig = np.zeros((num_files), dtype=np.int)\n",
    "     nr_files = 0\n",
    "     mean = 0\n",
    "     ct = 0\n",
    "     \n",
    "     for i,file_name in enumerate(listdir(files_dir)):\n",
    "        file_path = os.path.join(files_dir,file_name)\n",
    "        mid = MidiFile(file_path)\n",
    "        tpb = mid.ticks_per_beat                  \n",
    "        for track in mid.tracks:\n",
    "            for message in track:\n",
    "                if(message.type == 'time_signature'):\n",
    "                    if(message.numerator == numerator and message.denominator == denominator):\n",
    "                        print('%s         ' % (file_name),end='')\n",
    "                        print('%d %d %d' % (message.numerator, message.denominator, mid.ticks_per_beat))\n",
    "                        tpb = mid.ticks_per_beat\n",
    "                        if message.denominator == 8:\n",
    "                            tpb = mid.ticks_per_beat/2\n",
    "                        if message.denominator == 16:\n",
    "                            tpb = mid.ticks_per_beat/4\n",
    "                        fac = tpb * message.numerator\n",
    "                        fac = int(fac/compression_factor)\n",
    "                        time_sig=fac\n",
    "                        nr_files = nr_files+1\n",
    "                if message.type == 'set_tempo':\n",
    "                    mean = mean+message.tempo\n",
    "                    ct += 1\n",
    "     tempo = int(mean/ct)\n",
    "     return time_sig, tpb, tempo  \n",
    "\n",
    "seq_length, tpb, tempo  = timeSignature(midi_file,compression_factor,3,8)"
   ]
  },
  {
   "cell_type": "code",
   "execution_count": 39,
   "metadata": {},
   "outputs": [
    {
     "name": "stdout",
     "output_type": "stream",
     "text": [
      "<function createMidi at 0x0000017DE3D25EE0>\n"
     ]
    }
   ],
   "source": [
    "createMidi(tpb,mel_roll[0], r'D:\\Programming\\Musicron_LSTM\\Songs', 'TesterV2.mid', 0.1,1, tempo, low_note) \n"
   ]
  },
  {
   "cell_type": "code",
   "execution_count": null,
   "metadata": {},
   "outputs": [],
   "source": []
  },
  {
   "cell_type": "code",
   "execution_count": null,
   "metadata": {},
   "outputs": [],
   "source": []
  }
 ],
 "metadata": {
  "interpreter": {
   "hash": "719bf381fce8d95044ac93c885891d6eb8810e0c18f9d5f316b2bc9962776baf"
  },
  "kernelspec": {
   "display_name": "Python 3.9.7 ('base')",
   "language": "python",
   "name": "python3"
  },
  "language_info": {
   "codemirror_mode": {
    "name": "ipython",
    "version": 3
   },
   "file_extension": ".py",
   "mimetype": "text/x-python",
   "name": "python",
   "nbconvert_exporter": "python",
   "pygments_lexer": "ipython3",
   "version": "3.9.7"
  },
  "orig_nbformat": 4
 },
 "nbformat": 4,
 "nbformat_minor": 2
}
